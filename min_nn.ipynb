{
  "nbformat": 4,
  "nbformat_minor": 0,
  "metadata": {
    "colab": {
      "name": "min-nn.ipynb",
      "provenance": [],
      "authorship_tag": "ABX9TyMB5RV1U7PCvaTgXOlkcmah",
      "include_colab_link": true
    },
    "kernelspec": {
      "name": "python3",
      "display_name": "Python 3"
    },
    "language_info": {
      "name": "python"
    }
  },
  "cells": [
    {
      "cell_type": "markdown",
      "metadata": {
        "id": "view-in-github",
        "colab_type": "text"
      },
      "source": [
        "<a href=\"https://colab.research.google.com/github/teddyxiong53/tensorflow_test/blob/main/min_nn.ipynb\" target=\"_parent\"><img src=\"https://colab.research.google.com/assets/colab-badge.svg\" alt=\"Open In Colab\"/></a>"
      ]
    },
    {
      "cell_type": "markdown",
      "metadata": {
        "id": "U-9GYsfFSdv5"
      },
      "source": [
        "创建一个最小神经网络。"
      ]
    },
    {
      "cell_type": "code",
      "metadata": {
        "id": "cL77XWpiQdlk"
      },
      "source": [
        "import keras\n",
        "from keras.layers import Dense\n",
        "model = keras.models.Sequential()\n",
        "model.add(Dense(units=1, use_bias=False, input_shape=(1,)))\n",
        "model.compile(loss='mse', optimizer='adam')"
      ],
      "execution_count": 1,
      "outputs": []
    },
    {
      "cell_type": "markdown",
      "metadata": {
        "id": "9YsCamx1SlBw"
      },
      "source": [
        "用numpy创建一些数据，给模型进行学习。"
      ]
    },
    {
      "cell_type": "code",
      "metadata": {
        "id": "H9X_Lf8sSkog"
      },
      "source": [
        "import numpy as np\n",
        "data_input = np.random.normal(size=1000)\n",
        "data_label = -(data_input)"
      ],
      "execution_count": 4,
      "outputs": []
    },
    {
      "cell_type": "markdown",
      "metadata": {
        "id": "QASHXFCGTHWG"
      },
      "source": [
        "然后进行训练"
      ]
    },
    {
      "cell_type": "code",
      "metadata": {
        "colab": {
          "base_uri": "https://localhost:8080/"
        },
        "id": "loSbtsDUTJ12",
        "outputId": "ba093e0d-7bdc-4dc6-ac31-716b2903654b"
      },
      "source": [
        "print('模型随机分配权重是：{}'.format(model.layers[0].get_weights()))\n",
        "model.fit(data_input, data_label, epochs=1, batch_size=1, verbose=1)\n",
        "print('模型预测：{}'.format(model.predict(np.array([2.5]))))\n",
        "print('训练完成后权重分配为：{}'.format(model.layers[0].get_weights()))"
      ],
      "execution_count": 5,
      "outputs": [
        {
          "output_type": "stream",
          "text": [
            "模型随机分配权重是：[array([[-1.]], dtype=float32)]\n",
            "1000/1000 [==============================] - 1s 931us/step - loss: 0.0000e+00\n",
            "模型预测：[[-2.5]]\n",
            "训练完成后权重分配为：[array([[-1.]], dtype=float32)]\n"
          ],
          "name": "stdout"
        }
      ]
    }
  ]
}