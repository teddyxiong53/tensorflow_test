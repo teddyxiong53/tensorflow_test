{
  "nbformat": 4,
  "nbformat_minor": 0,
  "metadata": {
    "colab": {
      "name": "basic-keras.ipynb",
      "provenance": [],
      "authorship_tag": "ABX9TyOLV3plomRP9W6+++gNBP5/",
      "include_colab_link": true
    },
    "kernelspec": {
      "name": "python3",
      "display_name": "Python 3"
    },
    "language_info": {
      "name": "python"
    }
  },
  "cells": [
    {
      "cell_type": "markdown",
      "metadata": {
        "id": "view-in-github",
        "colab_type": "text"
      },
      "source": [
        "<a href=\"https://colab.research.google.com/github/teddyxiong53/tensorflow_test/blob/main/basic_keras.ipynb\" target=\"_parent\"><img src=\"https://colab.research.google.com/assets/colab-badge.svg\" alt=\"Open In Colab\"/></a>"
      ]
    },
    {
      "cell_type": "code",
      "metadata": {
        "colab": {
          "base_uri": "https://localhost:8080/",
          "height": 265
        },
        "id": "a_9ag8ds6xNu",
        "outputId": "227064a8-64e8-4453-e817-266c1a5f8857"
      },
      "source": [
        "import numpy as np\n",
        "np.random.seed(1337)\n",
        "from keras.models import Sequential\n",
        "from keras.layers import Dense\n",
        "import matplotlib.pyplot as plt\n",
        "\n",
        "x = np.linspace(-1,1,200)\n",
        "np.random.shuffle(x)\n",
        "y = 0.5*x + 2 + np.random.normal(0, 0.05, (200,))\n",
        "plt.scatter(x,y)\n",
        "plt.show()"
      ],
      "execution_count": 1,
      "outputs": [
        {
          "output_type": "display_data",
          "data": {
            "image/png": "[encoded data removed]",
            "text/plain": [
              "<Figure size 432x288 with 1 Axes>"
            ]
          },
          "metadata": {
            "needs_background": "light"
          }
        }
      ]
    },
    {
      "cell_type": "code",
      "metadata": {
        "id": "z0_HouIVNwcC"
      },
      "source": [
        "model = Sequential()\n",
        "model.add(Dense(units=1))\n",
        "model.compile(loss='mse', optimizer='sgd')\n"
      ],
      "execution_count": 4,
      "outputs": []
    },
    {
      "cell_type": "code",
      "metadata": {
        "colab": {
          "base_uri": "https://localhost:8080/"
        },
        "id": "ZQSDlEXfOkv9",
        "outputId": "4db34685-a737-4019-b19f-8a96c527abde"
      },
      "source": [
        "x_train,y_train = x[:160],y[:160]\n",
        "x_test, y_test = x[160:],y[160:]\n",
        "for step in range(301):\n",
        "  const = model.train_on_batch(x_train,y_train)\n",
        "  if step %100 == 0:\n",
        "    print('train const:', const)\n",
        "    "
      ],
      "execution_count": 5,
      "outputs": [
        {
          "output_type": "stream",
          "text": [
            "train const: 4.040735721588135\n",
            "train const: 0.08597054332494736\n",
            "train const: 0.0072413356974720955\n",
            "train const: 0.003504779189825058\n"
          ],
          "name": "stdout"
        }
      ]
    },
    {
      "cell_type": "code",
      "metadata": {
        "colab": {
          "base_uri": "https://localhost:8080/"
        },
        "id": "6kZ0_aVjPFQK",
        "outputId": "99d46766-ce2c-4e4e-aa3e-5f4e623775e9"
      },
      "source": [
        "model.evaluate(x_test, y_test, batch_size=40)\n",
        "w,b = model.layers[0].get_weights()\n",
        "print('w:{},b:{}'.format(w,b))"
      ],
      "execution_count": 6,
      "outputs": [
        {
          "output_type": "stream",
          "text": [
            "1/1 [==============================] - 0s 133ms/step - loss: 0.0036\n",
            "w:[[0.44155774]],b:[1.9984337]\n"
          ],
          "name": "stdout"
        }
      ]
    },
    {
      "cell_type": "code",
      "metadata": {
        "colab": {
          "base_uri": "https://localhost:8080/",
          "height": 265
        },
        "id": "siUJZG0UPXOH",
        "outputId": "bc72328d-d708-42e2-d230-96f47500bf0c"
      },
      "source": [
        "y_pred = model.predict(x_test)\n",
        "plt.scatter(x_test, y_test)\n",
        "plt.plot(x_test, y_pred)\n",
        "plt.show()"
      ],
      "execution_count": 7,
      "outputs": [
        {
          "output_type": "display_data",
          "data": {
            "image/png": "[encoded data removed]",
            "text/plain": [
              "<Figure size 432x288 with 1 Axes>"
            ]
          },
          "metadata": {
            "needs_background": "light"
          }
        }
      ]
    }
  ]
}